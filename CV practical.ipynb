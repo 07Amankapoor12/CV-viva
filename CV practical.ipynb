{
 "cells": [
  {
   "cell_type": "markdown",
   "metadata": {},
   "source": [
    "CV LAB PRACTICAL QUESTIONS\n",
    "1. Write a program to create and export a pattern (image) as in the following link: https://www.publicdomainpictures.net/pictures/110000/velka/black-and-white-blocks-pattern.jpg\n",
    "2. Write a program that:\n",
    "\n",
    "     (a)Loads an image\n",
    "\n",
    "     (b)Increases its brightness if right key is presses\n",
    "     \n",
    "     (c)Decreases its brightness if left key is pressed.\n",
    "3. Write a program that converts a colored image to:\n",
    "\n",
    "     (a)black and white\n",
    "     \n",
    "     (b)grayscale\n",
    "     \n",
    "     (c)bluescale\n",
    "4. Write a program that counts the no. of human faces in an image. \n",
    "5. Write a program to export negative of an image, like in the following link: https://www.computerhope.com/jargon/n/negative.jpg"
   ]
  },
  {
   "cell_type": "markdown",
   "metadata": {},
   "source": [
    "## Question 2"
   ]
  },
  {
   "cell_type": "code",
   "execution_count": 11,
   "metadata": {},
   "outputs": [],
   "source": [
    "#openCV Brighten or Darken an image\n",
    "\n",
    "import cv2\n",
    "import numpy as np\n",
    "import matplotlib.pyplot as plt\n",
    "\n",
    "o_img = cv2.imread('C:/Users/AMAN KAPOOR/Downloads/lachlan-dempsey-6VPEOdpFNAs-unsplash.jpg')\n",
    "o_img=cv2.resize(o_img,(500,500))\n",
    "mod_Array = np.ones_like(o_img)\n",
    "\n",
    "bright_img = o_img.copy()\n",
    "\n",
    "#bright_img = cv2.add(bright_img, mod_Array*40)\n",
    "\n",
    "dark_img = o_img.copy()\n",
    "\n",
    "# No negative sign = unsigned integer\n",
    "# dtype = uint8 ## datatype is unsigned integer of size 8 bits\n",
    "\n",
    "\n",
    "#dark_img = cv2.subtract(dark_img,mod_Array * 150)\n",
    "while True:\n",
    "    cv2.imshow('Original',o_img)\n",
    "    kye=cv2.waitKey(1)\n",
    "    if kye==98: ## When press b, Increases Brightness \n",
    "        o_img = cv2.add(bright_img, mod_Array*40)\n",
    "    elif kye==97:  ## When press a, Decreases Brightness\n",
    "        o_img = cv2.subtract(dark_img,mod_Array * 100)\n",
    "    elif kye==99:  ## When press c, Close\n",
    "        break   \n",
    "cv2.destroyAllWindows()\n",
    "#fig = plt.figure()\n",
    "#ax1 = fig.add_subplot(2,2,1)\n",
    "#plt.title('bright_img')\n",
    "#ax1.imshow(bright_img)\n",
    "#ax2 = fig.add_subplot(2,2,2)#\n",
    "#plt.title('o_img')\n",
    "#ax2.imshow(o_img)\n",
    "#ax3 = fig.add_subplot(2,2,3)\n",
    "#ax3.imshow(dark_img)\n",
    "#plt.title('dark_img_imgk')"
   ]
  },
  {
   "cell_type": "markdown",
   "metadata": {},
   "source": [
    "## Question 3"
   ]
  },
  {
   "cell_type": "markdown",
   "metadata": {},
   "source": [
    "3. Write a program that converts a colored image to:\n",
    "\n",
    "     (a)black and white\n",
    "     \n",
    "     (b)grayscale\n",
    "     \n",
    "     (c)bluescale\n"
   ]
  },
  {
   "cell_type": "code",
   "execution_count": 54,
   "metadata": {},
   "outputs": [],
   "source": [
    "import cv2\n",
    "img=cv2.imread(\"C:/Users/AMAN KAPOOR/Downloads/lachlan-dempsey-6VPEOdpFNAs-unsplash.jpg\")\n",
    "a=cv2.resize(img,(500,500))\n",
    "\n",
    "\n",
    "second=a.copy()\n",
    "GrayScale=cv2.cvtColor(second,cv2.COLOR_BGR2GRAY)\n",
    "\n",
    "BlueScale=a.copy()\n",
    "BlueScale[:,:,0]=255\n",
    "\n",
    "\n",
    "cv2.imshow('GraySclaeImage',GrayScale)\n",
    "cv2.imshow('BlueScaleImage',BlueScale)\n",
    "cv2.waitKey()\n",
    "cv2.destroyAllWindows()"
   ]
  },
  {
   "cell_type": "markdown",
   "metadata": {},
   "source": [
    "## Question 4"
   ]
  },
  {
   "cell_type": "code",
   "execution_count": 101,
   "metadata": {},
   "outputs": [
    {
     "name": "stdout",
     "output_type": "stream",
     "text": [
      "Number of Faces 12\n"
     ]
    }
   ],
   "source": [
    "import cv2\n",
    "img=cv2.imread(\"C:/Users/AMAN KAPOOR/Downloads/football.cms\")\n",
    "cascade=cv2.CascadeClassifier(\"C:/Users/AMAN KAPOOR/data/haarcascades/haarcascade_frontalface_default.xml\")\n",
    "#cascade=cv2.CascadeClassifier(\"C:/Users/AMAN KAPOOR/data/haarcascades/haarcascade_frontalcatface_extended.xml\")\n",
    "#img=cv2.resize(img,(700,700))\n",
    "d=cascade.detectMultiScale(img)\n",
    "print('Number of Faces',str(d.shape[0]))\n",
    "for (x,y,w,h) in d:\n",
    "    cv2.rectangle(img,(x,y),(x+w,y+h),(0,0,255),1)\n",
    "cv2.imshow('BlueScaleImage',img)\n",
    "cv2.waitKey()\n",
    "cv2.destroyAllWindows()"
   ]
  },
  {
   "cell_type": "code",
   "execution_count": null,
   "metadata": {},
   "outputs": [],
   "source": [
    "\n"
   ]
  }
 ],
 "metadata": {
  "kernelspec": {
   "display_name": "Python 3",
   "language": "python",
   "name": "python3"
  },
  "language_info": {
   "codemirror_mode": {
    "name": "ipython",
    "version": 3
   },
   "file_extension": ".py",
   "mimetype": "text/x-python",
   "name": "python",
   "nbconvert_exporter": "python",
   "pygments_lexer": "ipython3",
   "version": "3.7.4"
  }
 },
 "nbformat": 4,
 "nbformat_minor": 2
}
